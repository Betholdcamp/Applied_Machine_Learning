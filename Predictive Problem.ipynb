{
 "cells": [
  {
   "cell_type": "markdown",
   "metadata": {},
   "source": [
    "# Classifying whether an individual is likely to make more or less than 50K per year\n",
    "\n",
    "The goal of this problem is for you to try and classify whether or not an individual is likely to make more or less than 50K per year.  Carry out this task.  Try at least five machine algorithms, report precision, recall and f1 score on a test set.\n",
    "\n",
    "For each of the parts, report your preformance in terms not of just numbers but in terms of graphs. When you have training and validation data, please show the curves as the training progresses. You should know when you are overfitting or underfitting. Don't just report bare numbers. **You are free to add implmentation or markdown cells to make your notebook clearer!!**\n",
    "\n",
    "## Data:\n",
    "\n",
    "The following dataset was taken from the first dataset repository: http://archive.ics.uci.edu/ml/datasets/Adult\n",
    "\n",
    "As the original task of the dataset lays out, \n",
    "Please note:\n",
    "* the continuous variable fnlwgt represents final weight, which is the number of units in the target population that the responding unit represents."
   ]
  },
  {
   "cell_type": "markdown",
   "metadata": {},
   "source": [
    "## Part 1: Dealing with Missing Values\n",
    "\n",
    "What should you do about dealing with missing values - do you just drop those rows?\n",
    "\n",
    "One of the most common problems we come accross in working with data \"in the wild\" is missing data. Often we will have observations (rows) that have only some of the needed attributes. Different rows will have different attributes missing. There are a number of strategies for dealing with the missing values. Clearly one could be dropping the column (attribute), or row (observation). Unfortuntely if you drop columns you may lose critical information that is helpful for classification and may be present in most (many) of the rows. You can drop rows but if many rows have at least one missing value, you may loose too much data. Do you try to impute (i. e. fill in) the missing data?  If so how?  \n",
    "\n",
    "Explain why you chose the strategy you did.\n",
    "\n",
    "*Hint - '?' denotes a missing value.*\n",
    "\n",
    "### Some possible strategies for dealing with missing data\n",
    "\n",
    "1. Whenever there is pleanty of data and very little missing data, you should consider dropping rows and/or columns. This may introduce some bias in the data but again, if the problem is limited to a very few rows or columns, it is easy in training to reproduce.\n",
    "\n",
    "2. Fill with fixed value using sklearn.impute.SimpleImputer.\n",
    "    a. 'constant' 0. Rarely a good idea but sometimes, if we can assume that when it is missing it is basically 0, this might be a good idea. For example a data may list number of house fires in a zip code and a missing value just means none.\n",
    "    b. 'mean' if the data is numeric, the mean is meaningfull.\n",
    "    c. 'median' may be more sensible if the data is integer or ordered. When the mean and median are very different it is important to understand what a \"typical\" example might mean. When considering \"income\", for example, a few large outliers will mess up the mean.\n",
    "    d. \"most_frequent' when you have categorical (nominal) labels, mean and median don't make any sense. Most probable label is what you need to use. This is also known as \"mode\".\n",
    "\n",
    "3. sklearn.impute.MissingIndicator: Sometimes the fact that a value is missing, is itself an important indicator. One can create a new feature/attribute that indicates a certain attribute is missing. If you later build a classifier by hand you can explicitly wieght each variable using the missing variable weights so that for that example (row) that attribute won't contribute to the classifier. In a deep neural network it is possible that the network can learn to do that automatically.\n",
    "\n",
    "4. One can use the sklearn.impute.KNNImputer which will look for rows to fill in the data.\n",
    "\n",
    "5. Fill with sklearn.impute.IterativeImputer scikit-learn provides a sophisticated imputation strategy. You can read up on this in the documentation, but it will fix on of the columns (attributes), and try to use the other features to predict similar to KNN but more sophisticated.\n",
    "\n",
    "6. Train a classifier: You can build your own classifier using machine learning. This is kind of a problem within a problem but if done correctly, it has the potential to be more accurate than a simpler method. Of course, if done badly it could be worse.\n",
    "\n",
    "7. Manually impute the missing values. You may know enough about the problem to build an ad-hoc way to fill in the missing values for each column in a way that makes the most sense. This almost always requires a great deal of domain expertise. \n",
    "\n"
   ]
  },
  {
   "cell_type": "code",
   "execution_count": 27,
   "metadata": {
    "collapsed": true
   },
   "outputs": [],
   "source": [
    "# Add your code for filling in the data here. Please end by using the appropriate method for data filling.\n",
    "# to show the amount of missing data (which in the end should not be any since you dropped or filled in data)\n",
    "\n",
    "\n",
    "import pandas as pd\n",
    "\n",
    "columns = [\n",
    "    \"age\",\n",
    "    \"work_class\",\n",
    "    \"fnlwgt\",\n",
    "    \"education\",\n",
    "    \"education_num\",\n",
    "    \"marital_status\",\n",
    "    \"occupation\",\n",
    "    \"relationship\",\n",
    "    \"race\",\n",
    "    \"sex\",\n",
    "    \"capital_gain\",\n",
    "    \"capital_loss\",\n",
    "    \"hours_per_week\",\n",
    "    \"native_country\",\n",
    "    \"target\"\n",
    "]\n",
    "df = pd.read_csv(\"adult.data\", names=columns)\n",
    "for column in df.columns:\n",
    "    if df[column].dtype == \"object\":\n",
    "        df[column] = df[column].str.strip()"
   ]
  },
  {
   "cell_type": "code",
   "execution_count": 28,
   "metadata": {
    "collapsed": true
   },
   "outputs": [],
   "source": [
    "from sklearn.preprocessing import LabelEncoder\n",
    "le = LabelEncoder()"
   ]
  },
  {
   "cell_type": "code",
   "execution_count": 30,
   "metadata": {
    "collapsed": false
   },
   "outputs": [],
   "source": [
    "df_1 = None\n",
    "for column in df.columns:\n",
    "    if df[column].dtype == 'object':\n",
    "        df[column] = le.fit_transform(df[column])"
   ]
  },
  {
   "cell_type": "code",
   "execution_count": 34,
   "metadata": {
    "collapsed": false
   },
   "outputs": [],
   "source": [
    "Target = df.target"
   ]
  },
  {
   "cell_type": "code",
   "execution_count": 38,
   "metadata": {
    "collapsed": false
   },
   "outputs": [],
   "source": [
    "df_1 = df.drop('target', axis=1)"
   ]
  },
  {
   "cell_type": "code",
   "execution_count": 39,
   "metadata": {
    "collapsed": false
   },
   "outputs": [],
   "source": [
    "#df.age[df. == 30].count()"
   ]
  },
  {
   "cell_type": "markdown",
   "metadata": {},
   "source": [
    "## Part 2: Train Test Validate Split\n",
    "\n",
    "Ideally you will split the data and use the train data filling in proceedure for the test data. Because this is expensive you can do experiments initially to see if this matters. Just keep carefully in mind what you will know and what you can't know during the test evaluation. Both sklearn and tensorflow provide facilities for train test split. Take your pick.\n",
    "\n",
    "At the end of this you should have a train, validate and test split. In the next part you are going to do preliminary testing of your model with your train+validation sets to get some idea of good canditates for hyperparameters. Later you will merge your training and validation set and resplit them up using cross validation to get better estimates for setting hyper-parameters\n",
    "\n",
    "**NOTE: It is very important that you record very carefully any parameters you have for filling in data in step 1. For example if you you build a \"fit\" using some training data, later you will need to use the this \"fit\" to transform the data, you can not re-fit on new data. In other words if your \"pipline\" in training takes the mean of the input to fill in the first column, you need to fill with exactly that number, when you get new data for testing. Don't take the mean of the test data.**"
   ]
  },
  {
   "cell_type": "code",
   "execution_count": 40,
   "metadata": {
    "collapsed": true
   },
   "outputs": [],
   "source": [
    "from sklearn.model_selection import train_test_split"
   ]
  },
  {
   "cell_type": "code",
   "execution_count": 41,
   "metadata": {
    "collapsed": true
   },
   "outputs": [],
   "source": [
    "X_train, X_test, y_train, y_test = train_test_split(df_1, Target, test_size=0.2, random_state=42)"
   ]
  },
  {
   "cell_type": "code",
   "execution_count": 42,
   "metadata": {
    "collapsed": true
   },
   "outputs": [],
   "source": [
    "Real_X_train, X_validate, Real_y_train, y_validate = train_test_split(X_train, y_train, test_size=0.2, random_state=42)"
   ]
  },
  {
   "cell_type": "code",
   "execution_count": 177,
   "metadata": {
    "collapsed": false
   },
   "outputs": [
    {
     "data": {
      "text/html": [
       "<div>\n",
       "<table border=\"1\" class=\"dataframe\">\n",
       "  <thead>\n",
       "    <tr style=\"text-align: right;\">\n",
       "      <th></th>\n",
       "      <th>age</th>\n",
       "      <th>work_class</th>\n",
       "      <th>fnlwgt</th>\n",
       "      <th>education</th>\n",
       "      <th>education_num</th>\n",
       "      <th>marital_status</th>\n",
       "      <th>occupation</th>\n",
       "      <th>relationship</th>\n",
       "      <th>race</th>\n",
       "      <th>sex</th>\n",
       "      <th>capital_gain</th>\n",
       "      <th>capital_loss</th>\n",
       "      <th>hours_per_week</th>\n",
       "      <th>native_country</th>\n",
       "    </tr>\n",
       "  </thead>\n",
       "  <tbody>\n",
       "    <tr>\n",
       "      <th>9219</th>\n",
       "      <td>21</td>\n",
       "      <td>4</td>\n",
       "      <td>175800</td>\n",
       "      <td>11</td>\n",
       "      <td>9</td>\n",
       "      <td>4</td>\n",
       "      <td>10</td>\n",
       "      <td>4</td>\n",
       "      <td>4</td>\n",
       "      <td>0</td>\n",
       "      <td>0</td>\n",
       "      <td>0</td>\n",
       "      <td>55</td>\n",
       "      <td>39</td>\n",
       "    </tr>\n",
       "    <tr>\n",
       "      <th>25368</th>\n",
       "      <td>57</td>\n",
       "      <td>4</td>\n",
       "      <td>161964</td>\n",
       "      <td>11</td>\n",
       "      <td>9</td>\n",
       "      <td>2</td>\n",
       "      <td>3</td>\n",
       "      <td>0</td>\n",
       "      <td>4</td>\n",
       "      <td>1</td>\n",
       "      <td>0</td>\n",
       "      <td>0</td>\n",
       "      <td>55</td>\n",
       "      <td>39</td>\n",
       "    </tr>\n",
       "    <tr>\n",
       "      <th>19584</th>\n",
       "      <td>64</td>\n",
       "      <td>6</td>\n",
       "      <td>192695</td>\n",
       "      <td>4</td>\n",
       "      <td>3</td>\n",
       "      <td>2</td>\n",
       "      <td>5</td>\n",
       "      <td>0</td>\n",
       "      <td>4</td>\n",
       "      <td>1</td>\n",
       "      <td>0</td>\n",
       "      <td>0</td>\n",
       "      <td>70</td>\n",
       "      <td>2</td>\n",
       "    </tr>\n",
       "    <tr>\n",
       "      <th>22944</th>\n",
       "      <td>38</td>\n",
       "      <td>4</td>\n",
       "      <td>224566</td>\n",
       "      <td>8</td>\n",
       "      <td>11</td>\n",
       "      <td>2</td>\n",
       "      <td>6</td>\n",
       "      <td>0</td>\n",
       "      <td>4</td>\n",
       "      <td>1</td>\n",
       "      <td>0</td>\n",
       "      <td>0</td>\n",
       "      <td>50</td>\n",
       "      <td>39</td>\n",
       "    </tr>\n",
       "    <tr>\n",
       "      <th>18466</th>\n",
       "      <td>64</td>\n",
       "      <td>0</td>\n",
       "      <td>257790</td>\n",
       "      <td>11</td>\n",
       "      <td>9</td>\n",
       "      <td>0</td>\n",
       "      <td>0</td>\n",
       "      <td>4</td>\n",
       "      <td>4</td>\n",
       "      <td>0</td>\n",
       "      <td>0</td>\n",
       "      <td>0</td>\n",
       "      <td>38</td>\n",
       "      <td>39</td>\n",
       "    </tr>\n",
       "    <tr>\n",
       "      <th>17294</th>\n",
       "      <td>41</td>\n",
       "      <td>4</td>\n",
       "      <td>111483</td>\n",
       "      <td>11</td>\n",
       "      <td>9</td>\n",
       "      <td>2</td>\n",
       "      <td>7</td>\n",
       "      <td>0</td>\n",
       "      <td>4</td>\n",
       "      <td>1</td>\n",
       "      <td>0</td>\n",
       "      <td>0</td>\n",
       "      <td>45</td>\n",
       "      <td>39</td>\n",
       "    </tr>\n",
       "    <tr>\n",
       "      <th>18399</th>\n",
       "      <td>39</td>\n",
       "      <td>5</td>\n",
       "      <td>222641</td>\n",
       "      <td>9</td>\n",
       "      <td>13</td>\n",
       "      <td>2</td>\n",
       "      <td>12</td>\n",
       "      <td>0</td>\n",
       "      <td>4</td>\n",
       "      <td>1</td>\n",
       "      <td>0</td>\n",
       "      <td>0</td>\n",
       "      <td>40</td>\n",
       "      <td>39</td>\n",
       "    </tr>\n",
       "    <tr>\n",
       "      <th>7731</th>\n",
       "      <td>37</td>\n",
       "      <td>4</td>\n",
       "      <td>210945</td>\n",
       "      <td>11</td>\n",
       "      <td>9</td>\n",
       "      <td>2</td>\n",
       "      <td>6</td>\n",
       "      <td>0</td>\n",
       "      <td>4</td>\n",
       "      <td>1</td>\n",
       "      <td>0</td>\n",
       "      <td>0</td>\n",
       "      <td>24</td>\n",
       "      <td>39</td>\n",
       "    </tr>\n",
       "    <tr>\n",
       "      <th>28246</th>\n",
       "      <td>47</td>\n",
       "      <td>6</td>\n",
       "      <td>180446</td>\n",
       "      <td>15</td>\n",
       "      <td>10</td>\n",
       "      <td>2</td>\n",
       "      <td>13</td>\n",
       "      <td>0</td>\n",
       "      <td>2</td>\n",
       "      <td>1</td>\n",
       "      <td>0</td>\n",
       "      <td>0</td>\n",
       "      <td>40</td>\n",
       "      <td>39</td>\n",
       "    </tr>\n",
       "    <tr>\n",
       "      <th>20857</th>\n",
       "      <td>51</td>\n",
       "      <td>4</td>\n",
       "      <td>168660</td>\n",
       "      <td>11</td>\n",
       "      <td>9</td>\n",
       "      <td>2</td>\n",
       "      <td>4</td>\n",
       "      <td>0</td>\n",
       "      <td>4</td>\n",
       "      <td>1</td>\n",
       "      <td>0</td>\n",
       "      <td>0</td>\n",
       "      <td>50</td>\n",
       "      <td>39</td>\n",
       "    </tr>\n",
       "  </tbody>\n",
       "</table>\n",
       "</div>"
      ],
      "text/plain": [
       "       age  work_class  fnlwgt  education  education_num  marital_status  \\\n",
       "9219    21           4  175800         11              9               4   \n",
       "25368   57           4  161964         11              9               2   \n",
       "19584   64           6  192695          4              3               2   \n",
       "22944   38           4  224566          8             11               2   \n",
       "18466   64           0  257790         11              9               0   \n",
       "17294   41           4  111483         11              9               2   \n",
       "18399   39           5  222641          9             13               2   \n",
       "7731    37           4  210945         11              9               2   \n",
       "28246   47           6  180446         15             10               2   \n",
       "20857   51           4  168660         11              9               2   \n",
       "\n",
       "       occupation  relationship  race  sex  capital_gain  capital_loss  \\\n",
       "9219           10             4     4    0             0             0   \n",
       "25368           3             0     4    1             0             0   \n",
       "19584           5             0     4    1             0             0   \n",
       "22944           6             0     4    1             0             0   \n",
       "18466           0             4     4    0             0             0   \n",
       "17294           7             0     4    1             0             0   \n",
       "18399          12             0     4    1             0             0   \n",
       "7731            6             0     4    1             0             0   \n",
       "28246          13             0     2    1             0             0   \n",
       "20857           4             0     4    1             0             0   \n",
       "\n",
       "       hours_per_week  native_country  \n",
       "9219               55              39  \n",
       "25368              55              39  \n",
       "19584              70               2  \n",
       "22944              50              39  \n",
       "18466              38              39  \n",
       "17294              45              39  \n",
       "18399              40              39  \n",
       "7731               24              39  \n",
       "28246              40              39  \n",
       "20857              50              39  "
      ]
     },
     "execution_count": 177,
     "metadata": {},
     "output_type": "execute_result"
    }
   ],
   "source": [
    "Real_X_train.tail(10)"
   ]
  },
  {
   "cell_type": "code",
   "execution_count": 179,
   "metadata": {
    "collapsed": false
   },
   "outputs": [],
   "source": [
    "Dropped_features = Real_X_train.drop(['age', 'fnlwgt', 'sex', 'capital_gain', 'capital_loss'], axis=1)"
   ]
  },
  {
   "cell_type": "code",
   "execution_count": 181,
   "metadata": {
    "collapsed": true
   },
   "outputs": [],
   "source": [
    "Dropped_features_val = X_validate.drop(['age', 'fnlwgt', 'sex', 'capital_gain', 'capital_loss'], axis=1)"
   ]
  },
  {
   "cell_type": "markdown",
   "metadata": {},
   "source": [
    "## Part 3: Build different five different variations sklearn models and a Dummy\n",
    "\n",
    "You will need to use a baseline classifier. Sklearn has sklearn.dummy.DummyClassifier which you can use as a benchmark for a braindead classifier. Pick 5 classifiers including simple ones like Knn or linear like logistic regression, and sophistocated ones like random forest and svm. Use the training and validation data from above (don't look at the testing data). Get a baseline for performance.\n",
    "\n",
    "Create bar graphs using different metrics including accuracy, recall, precision and f1 score accross the different algorithms."
   ]
  },
  {
   "cell_type": "code",
   "execution_count": 43,
   "metadata": {
    "collapsed": true
   },
   "outputs": [],
   "source": [
    "from sklearn.dummy import DummyClassifier\n",
    "from sklearn.neighbors import KNeighborsClassifier\n",
    "from sklearn.linear_model import LogisticRegression\n",
    "from sklearn.svm import LinearSVC\n",
    "from sklearn.ensemble import RandomForestClassifier"
   ]
  },
  {
   "cell_type": "code",
   "execution_count": 63,
   "metadata": {
    "collapsed": true
   },
   "outputs": [],
   "source": [
    "from sklearn.metrics import accuracy_score\n",
    "from sklearn.metrics import classification_report\n",
    "from sklearn.metrics import precision_recall_fscore_support"
   ]
  },
  {
   "cell_type": "code",
   "execution_count": 57,
   "metadata": {
    "collapsed": false
   },
   "outputs": [
    {
     "name": "stdout",
     "output_type": "stream",
     "text": [
      "0.632629558541\n",
      "             precision    recall  f1-score   support\n",
      "\n",
      "          0       0.76      0.75      0.76      4004\n",
      "          1       0.22      0.23      0.22      1206\n",
      "\n",
      "avg / total       0.64      0.63      0.64      5210\n",
      "\n"
     ]
    }
   ],
   "source": [
    "testing = DummyClassifier()\n",
    "testing.fit(Real_X_train, Real_y_train)\n",
    "tes_y_pred = testing.predict(X_validate)\n",
    "print(accuracy_score(y_validate, tes_y_pred))\n",
    "print(classification_report(y_validate, tes_y_pred))"
   ]
  },
  {
   "cell_type": "code",
   "execution_count": 68,
   "metadata": {
    "collapsed": false
   },
   "outputs": [],
   "source": [
    "#precision, recall, fscore, support = precision_recall_fscore_support(y_validate, tes_y_pred, average='micro')\n",
    "#h_1 = accuracy_score(y_validate, tes_y_pred)\n",
    "#ch = [precision, recall, fscore, h_1]"
   ]
  },
  {
   "cell_type": "code",
   "execution_count": null,
   "metadata": {
    "collapsed": false
   },
   "outputs": [],
   "source": []
  },
  {
   "cell_type": "code",
   "execution_count": 134,
   "metadata": {
    "collapsed": true
   },
   "outputs": [],
   "source": [
    "# Get baseline results here with logisic regression and random forest\n",
    "\n",
    "# Set up your models here\n",
    "\n",
    "def model_one():\n",
    "    testing = DummyClassifier()\n",
    "    testing.fit(Real_X_train, Real_y_train)\n",
    "    tes_y_pred = testing.predict(X_validate)\n",
    "    precision, recall, fscore, support = precision_recall_fscore_support(y_validate, tes_y_pred, average='macro')\n",
    "    accuracy = accuracy_score(y_validate, tes_y_pred)\n",
    "    return [precision, recall, fscore, accuracy]\n",
    "\n",
    "def model_two():\n",
    "    knn = KNeighborsClassifier()\n",
    "    knn.fit(Real_X_train, Real_y_train)\n",
    "    tes_y_pred = knn.predict(X_validate)\n",
    "    precision, recall, fscore, support = precision_recall_fscore_support(y_validate, tes_y_pred, average='macro')\n",
    "    accuracy = accuracy_score(y_validate, tes_y_pred)\n",
    "    return [precision, recall, fscore, accuracy]\n",
    "\n",
    "def model_three():\n",
    "    log = LogisticRegression()\n",
    "    log.fit(Real_X_train, Real_y_train)\n",
    "    tes_y_pred = log.predict(X_validate)\n",
    "    precision, recall, fscore, support = precision_recall_fscore_support(y_validate, tes_y_pred, average='macro')\n",
    "    accuracy = accuracy_score(y_validate, tes_y_pred)\n",
    "    return [precision, recall, fscore, accuracy]\n",
    "\n",
    "def model_four():\n",
    "    svc = LinearSVC()\n",
    "    svc.fit(Real_X_train, Real_y_train)\n",
    "    tes_y_pred = svc.predict(X_validate)\n",
    "    precision, recall, fscore, support = precision_recall_fscore_support(y_validate, tes_y_pred, average='macro')\n",
    "    accuracy = accuracy_score(y_validate, tes_y_pred)\n",
    "    return [precision, recall, fscore, accuracy]\n",
    "\n",
    "def model_five():\n",
    "    rd = RandomForestClassifier()\n",
    "    rd.fit(Real_X_train, Real_y_train)\n",
    "    tes_y_pred = rd.predict(X_validate)\n",
    "    precision, recall, fscore, support = precision_recall_fscore_support(y_validate, tes_y_pred, average='macro')\n",
    "    accuracy = accuracy_score(y_validate, tes_y_pred)\n",
    "    return [precision, recall, fscore, accuracy]\n",
    "\n",
    "\n",
    "# Perform preliminary evaluations here\n",
    "\n"
   ]
  },
  {
   "cell_type": "code",
   "execution_count": 135,
   "metadata": {
    "collapsed": false
   },
   "outputs": [],
   "source": [
    "lis = ['Dummy', 'knn', 'logistic', 'svc', 'Randomforest']\n",
    "lis_1 = [model_one(), model_two(), model_three(), model_four(), model_five()]\n",
    "Final = {}\n",
    "for i in range(5):\n",
    "    Final[lis[i]] = lis_1[i]"
   ]
  },
  {
   "cell_type": "code",
   "execution_count": 87,
   "metadata": {
    "collapsed": false
   },
   "outputs": [],
   "source": [
    "import matplotlib.pyplot as plt\n",
    "\n",
    "#plt.bar(len(Final),  Final.values())"
   ]
  },
  {
   "cell_type": "code",
   "execution_count": null,
   "metadata": {
    "collapsed": false
   },
   "outputs": [],
   "source": []
  },
  {
   "cell_type": "code",
   "execution_count": 137,
   "metadata": {
    "collapsed": false
   },
   "outputs": [],
   "source": [
    "final = pd.DataFrame(Final)"
   ]
  },
  {
   "cell_type": "code",
   "execution_count": 138,
   "metadata": {
    "collapsed": false
   },
   "outputs": [],
   "source": [
    "s = pd.Series(['precision', 'recall', 'fscore', 'accuracy'])\n",
    "final.set_index(s, inplace=True)"
   ]
  },
  {
   "cell_type": "code",
   "execution_count": 139,
   "metadata": {
    "collapsed": false
   },
   "outputs": [
    {
     "data": {
      "text/html": [
       "<div>\n",
       "<table border=\"1\" class=\"dataframe\">\n",
       "  <thead>\n",
       "    <tr style=\"text-align: right;\">\n",
       "      <th></th>\n",
       "      <th>Dummy</th>\n",
       "      <th>Randomforest</th>\n",
       "      <th>knn</th>\n",
       "      <th>logistic</th>\n",
       "      <th>svc</th>\n",
       "    </tr>\n",
       "  </thead>\n",
       "  <tbody>\n",
       "    <tr>\n",
       "      <th>precision</th>\n",
       "      <td>0.496275</td>\n",
       "      <td>0.795448</td>\n",
       "      <td>0.680214</td>\n",
       "      <td>0.712619</td>\n",
       "      <td>0.865006</td>\n",
       "    </tr>\n",
       "    <tr>\n",
       "      <th>recall</th>\n",
       "      <td>0.496156</td>\n",
       "      <td>0.754626</td>\n",
       "      <td>0.615393</td>\n",
       "      <td>0.618420</td>\n",
       "      <td>0.562184</td>\n",
       "    </tr>\n",
       "    <tr>\n",
       "      <th>fscore</th>\n",
       "      <td>0.496137</td>\n",
       "      <td>0.771427</td>\n",
       "      <td>0.629821</td>\n",
       "      <td>0.635605</td>\n",
       "      <td>0.553038</td>\n",
       "    </tr>\n",
       "    <tr>\n",
       "      <th>accuracy</th>\n",
       "      <td>0.635701</td>\n",
       "      <td>0.848177</td>\n",
       "      <td>0.780230</td>\n",
       "      <td>0.792898</td>\n",
       "      <td>0.795969</td>\n",
       "    </tr>\n",
       "  </tbody>\n",
       "</table>\n",
       "</div>"
      ],
      "text/plain": [
       "              Dummy  Randomforest       knn  logistic       svc\n",
       "precision  0.496275      0.795448  0.680214  0.712619  0.865006\n",
       "recall     0.496156      0.754626  0.615393  0.618420  0.562184\n",
       "fscore     0.496137      0.771427  0.629821  0.635605  0.553038\n",
       "accuracy   0.635701      0.848177  0.780230  0.792898  0.795969"
      ]
     },
     "execution_count": 139,
     "metadata": {},
     "output_type": "execute_result"
    }
   ],
   "source": [
    "final"
   ]
  },
  {
   "cell_type": "code",
   "execution_count": 140,
   "metadata": {
    "collapsed": false
   },
   "outputs": [
    {
     "data": {
      "image/png": "[encoded data removed]",
      "text/plain": [
       "<matplotlib.figure.Figure at 0x17060043320>"
      ]
     },
     "metadata": {},
     "output_type": "display_data"
    }
   ],
   "source": [
    "final.T.plot.bar()\n",
    "plt.show()"
   ]
  },
  {
   "cell_type": "markdown",
   "metadata": {},
   "source": [
    "### Preliminary conclusions on your models\n",
    "\n",
    "Include some graphs and peformance metrics"
   ]
  },
  {
   "cell_type": "markdown",
   "metadata": {},
   "source": [
    "## Part 4: Cross-validation\n",
    "We really should have used k-fold (eg. k=5) crossvalidation here, to not only evaluate our five keras/tensorflow models. See how your preliminary results change. Now that we have validation results with uncertainy (+- standard deviation), do your prior conclusion change. "
   ]
  },
  {
   "cell_type": "code",
   "execution_count": 111,
   "metadata": {
    "collapsed": true
   },
   "outputs": [],
   "source": [
    "# Part 4 inplement cross validation here\n",
    "from sklearn.model_selection import cross_val_score"
   ]
  },
  {
   "cell_type": "code",
   "execution_count": 124,
   "metadata": {
    "collapsed": false
   },
   "outputs": [],
   "source": [
    "rd = RandomForestClassifier()\n",
    "rd_val = cross_val_score(rd, Real_X_train, Real_y_train, cv=5, \n",
    "                       scoring='precision')\n"
   ]
  },
  {
   "cell_type": "code",
   "execution_count": null,
   "metadata": {
    "collapsed": true
   },
   "outputs": [],
   "source": [
    "rd_val.std"
   ]
  },
  {
   "cell_type": "code",
   "execution_count": 142,
   "metadata": {
    "collapsed": false
   },
   "outputs": [],
   "source": [
    "def model_one():\n",
    "    testing = DummyClassifier()\n",
    "    testing_pre = cross_val_score(testing, Real_X_train, Real_y_train, cv=5, scoring='precision').mean()\n",
    "    testing_recall = cross_val_score(testing, Real_X_train, Real_y_train, cv=5, scoring='recall').mean()\n",
    "    testing_fscore = cross_val_score(testing, Real_X_train, Real_y_train, cv=5, scoring='f1_macro').mean()\n",
    "    testing_acc = cross_val_score(testing, Real_X_train, Real_y_train, cv=5, scoring='accuracy').mean()\n",
    "    return [testing_pre, testing_recall, testing_fscore, testing_acc]\n",
    "\n",
    "def model_two():\n",
    "    knn = KNeighborsClassifier()\n",
    "    testing_pre = cross_val_score(knn, Real_X_train, Real_y_train, cv=5, scoring='precision').mean()\n",
    "    testing_recall = cross_val_score(knn, Real_X_train, Real_y_train, cv=5, scoring='recall').mean()\n",
    "    testing_fscore = cross_val_score(knn, Real_X_train, Real_y_train, cv=5, scoring='f1_macro').mean()\n",
    "    testing_acc = cross_val_score(knn, Real_X_train, Real_y_train, cv=5, scoring='accuracy').mean()\n",
    "    return [testing_pre, testing_recall, testing_fscore, testing_acc]\n",
    "\n",
    "def model_three():\n",
    "    log = LogisticRegression()\n",
    "    testing_pre = cross_val_score(log, Real_X_train, Real_y_train, cv=5, scoring='precision').mean()\n",
    "    testing_recall = cross_val_score(log, Real_X_train, Real_y_train, cv=5, scoring='recall').mean()\n",
    "    testing_fscore = cross_val_score(log, Real_X_train, Real_y_train, cv=5, scoring='f1_macro').mean()\n",
    "    testing_acc = cross_val_score(log, Real_X_train, Real_y_train, cv=5, scoring='accuracy').mean()\n",
    "    return [testing_pre, testing_recall, testing_fscore, testing_acc]\n",
    "\n",
    "def model_four():\n",
    "    svc = LinearSVC()\n",
    "    testing_pre = cross_val_score(svc, Real_X_train, Real_y_train, cv=5, scoring='precision').mean()\n",
    "    testing_recall = cross_val_score(svc, Real_X_train, Real_y_train, cv=5, scoring='recall').mean()\n",
    "    testing_fscore = cross_val_score(svc, Real_X_train, Real_y_train, cv=5, scoring='f1_macro').mean()\n",
    "    testing_acc = cross_val_score(svc, Real_X_train, Real_y_train, cv=5, scoring='accuracy').mean()\n",
    "    return [testing_pre, testing_recall, testing_fscore, testing_acc]\n",
    "\n",
    "def model_five():\n",
    "    rd = RandomForestClassifier()\n",
    "    testing_pre = cross_val_score(rd, Real_X_train, Real_y_train, cv=5, scoring='precision').mean()\n",
    "    testing_recall = cross_val_score(rd, Real_X_train, Real_y_train, cv=5, scoring='recall').mean()\n",
    "    testing_fscore = cross_val_score(rd, Real_X_train, Real_y_train, cv=5, scoring='f1_macro').mean()\n",
    "    testing_acc = cross_val_score(rd, Real_X_train, Real_y_train, cv=5, scoring='accuracy').mean()\n",
    "    return [testing_pre, testing_recall, testing_fscore, testing_acc]"
   ]
  },
  {
   "cell_type": "code",
   "execution_count": 143,
   "metadata": {
    "collapsed": true
   },
   "outputs": [],
   "source": [
    "lis_2 = ['Dummy', 'knn', 'logistic', 'svc', 'Randomforest']\n",
    "lis_3 = [model_one(), model_two(), model_three(), model_four(), model_five()]\n",
    "Final_1 = {}\n",
    "for i in range(5):\n",
    "    Final_1[lis_2[i]] = lis_3[i]"
   ]
  },
  {
   "cell_type": "code",
   "execution_count": 144,
   "metadata": {
    "collapsed": true
   },
   "outputs": [],
   "source": [
    "final_1 = pd.DataFrame(Final_1)\n",
    "s = pd.Series(['precision', 'recall', 'fscore', 'accuracy'])\n",
    "final_1.set_index(s, inplace=True)"
   ]
  },
  {
   "cell_type": "code",
   "execution_count": 145,
   "metadata": {
    "collapsed": false
   },
   "outputs": [
    {
     "data": {
      "text/html": [
       "<div>\n",
       "<table border=\"1\" class=\"dataframe\">\n",
       "  <thead>\n",
       "    <tr style=\"text-align: right;\">\n",
       "      <th></th>\n",
       "      <th>Dummy</th>\n",
       "      <th>Randomforest</th>\n",
       "      <th>knn</th>\n",
       "      <th>logistic</th>\n",
       "      <th>svc</th>\n",
       "    </tr>\n",
       "  </thead>\n",
       "  <tbody>\n",
       "    <tr>\n",
       "      <th>precision</th>\n",
       "      <td>0.242136</td>\n",
       "      <td>0.726485</td>\n",
       "      <td>0.567016</td>\n",
       "      <td>0.670000</td>\n",
       "      <td>0.926410</td>\n",
       "    </tr>\n",
       "    <tr>\n",
       "      <th>recall</th>\n",
       "      <td>0.252370</td>\n",
       "      <td>0.580569</td>\n",
       "      <td>0.304302</td>\n",
       "      <td>0.291857</td>\n",
       "      <td>0.377515</td>\n",
       "    </tr>\n",
       "    <tr>\n",
       "      <th>fscore</th>\n",
       "      <td>0.502461</td>\n",
       "      <td>0.774982</td>\n",
       "      <td>0.628525</td>\n",
       "      <td>0.640318</td>\n",
       "      <td>0.473447</td>\n",
       "    </tr>\n",
       "    <tr>\n",
       "      <th>accuracy</th>\n",
       "      <td>0.634227</td>\n",
       "      <td>0.844659</td>\n",
       "      <td>0.774403</td>\n",
       "      <td>0.792926</td>\n",
       "      <td>0.711400</td>\n",
       "    </tr>\n",
       "  </tbody>\n",
       "</table>\n",
       "</div>"
      ],
      "text/plain": [
       "              Dummy  Randomforest       knn  logistic       svc\n",
       "precision  0.242136      0.726485  0.567016  0.670000  0.926410\n",
       "recall     0.252370      0.580569  0.304302  0.291857  0.377515\n",
       "fscore     0.502461      0.774982  0.628525  0.640318  0.473447\n",
       "accuracy   0.634227      0.844659  0.774403  0.792926  0.711400"
      ]
     },
     "execution_count": 145,
     "metadata": {},
     "output_type": "execute_result"
    }
   ],
   "source": [
    "final_1"
   ]
  },
  {
   "cell_type": "code",
   "execution_count": 153,
   "metadata": {
    "collapsed": false
   },
   "outputs": [
    {
     "data": {
      "image/png": "[encoded data removed]",
      "text/plain": [
       "<matplotlib.figure.Figure at 0x170626db550>"
      ]
     },
     "metadata": {},
     "output_type": "display_data"
    }
   ],
   "source": [
    "fig, ax = plt.subplots(1,2 , figsize=(10,6))\n",
    "final_1.T.plot.bar(ax=ax[0])\n",
    "ax[0].legend(loc='lower left')\n",
    "ax[0].set_title('WITH Cross Validation ')\n",
    "final.T.plot.bar(ax=ax[1])\n",
    "ax[1].legend(loc='lower left')\n",
    "ax[1].set_title('No Cross Validation ')\n",
    "plt.show()"
   ]
  },
  {
   "cell_type": "markdown",
   "metadata": {},
   "source": [
    "### Fill in your Part 4 Conclusion here \n",
    "\n",
    "Cross Validation gives results that is more usable because it gives average of set of accuracies, recall, precision and fscore. Over all random forest tend to do well and give better results. "
   ]
  },
  {
   "cell_type": "markdown",
   "metadata": {},
   "source": [
    "## Part 5: Refining with Regularization\n",
    "\n",
    "We know that our biggest problem, if our models are flexibile enough, will be overfitting. Please try to regularize your best 2 models to see if you can improve their results. Not all algorithms have regularization but analyze two that do. Make sure you show graph performance has you change the regularization parameters.\n",
    "Look at these questions:\n",
    "\n",
    "* Try regularizing each of your two best models, does the generalizability increase?  of Decrease?  \n",
    "* Is one more sensitive than the other? Why might this happen and why?  \n",
    "* Please try this with all of your features and then with the reduced set of features.  \n",
    "* Report your precision, recall and f1 score on the train and validation sets (no cross validatio yet).  \n",
    "* Next carry out cross validation.  Does regularization reduce under or overfitting?   Why or why not?  \n",
    "\n",
    "** Hint: Try both L1 or L2 norm for regularization or dropout **\n"
   ]
  },
  {
   "cell_type": "code",
   "execution_count": 157,
   "metadata": {
    "collapsed": true
   },
   "outputs": [],
   "source": [
    "def model_one():\n",
    "    svc = LinearSVC(penalty='l1', dual=False)\n",
    "    svc.fit(Real_X_train, Real_y_train)\n",
    "    tes_y_pred = svc.predict(X_validate)\n",
    "    precision, recall, fscore, support = precision_recall_fscore_support(y_validate, tes_y_pred, average='macro')\n",
    "    accuracy = accuracy_score(y_validate, tes_y_pred)\n",
    "    return [precision, recall, fscore, accuracy]\n",
    "\n",
    "def model_two():\n",
    "    svc = LinearSVC()\n",
    "    svc.fit(Real_X_train, Real_y_train)\n",
    "    tes_y_pred = svc.predict(X_validate)\n",
    "    precision, recall, fscore, support = precision_recall_fscore_support(y_validate, tes_y_pred, average='macro')\n",
    "    accuracy = accuracy_score(y_validate, tes_y_pred)\n",
    "    return [precision, recall, fscore, accuracy]\n",
    "\n",
    "def model_three():\n",
    "    svc = LinearSVC(C=0.1)\n",
    "    svc.fit(Real_X_train, Real_y_train)\n",
    "    tes_y_pred = svc.predict(X_validate)\n",
    "    precision, recall, fscore, support = precision_recall_fscore_support(y_validate, tes_y_pred, average='macro')\n",
    "    accuracy = accuracy_score(y_validate, tes_y_pred)\n",
    "    return [precision, recall, fscore, accuracy]\n",
    "\n",
    "def model_four():\n",
    "    svc = LinearSVC(penalty='l1', C=0.1, dual=False)\n",
    "    svc.fit(Real_X_train, Real_y_train)\n",
    "    tes_y_pred = svc.predict(X_validate)\n",
    "    precision, recall, fscore, support = precision_recall_fscore_support(y_validate, tes_y_pred, average='macro')\n",
    "    accuracy = accuracy_score(y_validate, tes_y_pred)\n",
    "    return [precision, recall, fscore, accuracy]\n",
    "\n",
    "def model_five():\n",
    "    rd = RandomForestClassifier()\n",
    "    rd.fit(Real_X_train, Real_y_train)\n",
    "    tes_y_pred = rd.predict(X_validate)\n",
    "    precision, recall, fscore, support = precision_recall_fscore_support(y_validate, tes_y_pred, average='macro')\n",
    "    accuracy = accuracy_score(y_validate, tes_y_pred)\n",
    "    return [precision, recall, fscore, accuracy]\n",
    "\n",
    "def model_six():\n",
    "    rd = RandomForestClassifier(min_samples_leaf=10)\n",
    "    rd.fit(Real_X_train, Real_y_train)\n",
    "    tes_y_pred = rd.predict(X_validate)\n",
    "    precision, recall, fscore, support = precision_recall_fscore_support(y_validate, tes_y_pred, average='macro')\n",
    "    accuracy = accuracy_score(y_validate, tes_y_pred)\n",
    "    return [precision, recall, fscore, accuracy]\n",
    "\n",
    "def model_seven():\n",
    "    rd = RandomForestClassifier(min_samples_leaf=100)\n",
    "    rd.fit(Real_X_train, Real_y_train)\n",
    "    tes_y_pred = rd.predict(X_validate)\n",
    "    precision, recall, fscore, support = precision_recall_fscore_support(y_validate, tes_y_pred, average='macro')\n",
    "    accuracy = accuracy_score(y_validate, tes_y_pred)\n",
    "    return [precision, recall, fscore, accuracy]"
   ]
  },
  {
   "cell_type": "code",
   "execution_count": 158,
   "metadata": {
    "collapsed": false
   },
   "outputs": [],
   "source": [
    "lis = ['svc_l1_C_1', 'svc_l1_C_0.1', 'svc_l2_C_1', 'svc_l2_C_0.1', 'Randomforest_leaf_1', 'Randomforest_leaf_10', 'Randomforest_leaf_100']\n",
    "lis_1 = [model_one(), model_four(), model_two(), model_three(), model_five(), model_six(), model_seven()]\n",
    "Final = {}\n",
    "for i in range(7):\n",
    "    Final[lis[i]] = lis_1[i]"
   ]
  },
  {
   "cell_type": "code",
   "execution_count": 159,
   "metadata": {
    "collapsed": true
   },
   "outputs": [],
   "source": [
    "final = pd.DataFrame(Final)\n",
    "s = pd.Series(['precision', 'recall', 'fscore', 'accuracy'])\n",
    "final.set_index(s, inplace=True)"
   ]
  },
  {
   "cell_type": "code",
   "execution_count": 160,
   "metadata": {
    "collapsed": false
   },
   "outputs": [
    {
     "data": {
      "text/html": [
       "<div>\n",
       "<table border=\"1\" class=\"dataframe\">\n",
       "  <thead>\n",
       "    <tr style=\"text-align: right;\">\n",
       "      <th></th>\n",
       "      <th>Randomforest_leaf_1</th>\n",
       "      <th>Randomforest_leaf_10</th>\n",
       "      <th>Randomforest_leaf_100</th>\n",
       "      <th>svc_l1_C_0.1</th>\n",
       "      <th>svc_l1_C_1</th>\n",
       "      <th>svc_l2_C_0.1</th>\n",
       "      <th>svc_l2_C_1</th>\n",
       "    </tr>\n",
       "  </thead>\n",
       "  <tbody>\n",
       "    <tr>\n",
       "      <th>precision</th>\n",
       "      <td>0.786466</td>\n",
       "      <td>0.818726</td>\n",
       "      <td>0.820534</td>\n",
       "      <td>0.775262</td>\n",
       "      <td>0.775956</td>\n",
       "      <td>0.497520</td>\n",
       "      <td>0.858688</td>\n",
       "    </tr>\n",
       "    <tr>\n",
       "      <th>recall</th>\n",
       "      <td>0.747653</td>\n",
       "      <td>0.762284</td>\n",
       "      <td>0.728397</td>\n",
       "      <td>0.677347</td>\n",
       "      <td>0.676478</td>\n",
       "      <td>0.499530</td>\n",
       "      <td>0.571925</td>\n",
       "    </tr>\n",
       "    <tr>\n",
       "      <th>fscore</th>\n",
       "      <td>0.763652</td>\n",
       "      <td>0.784320</td>\n",
       "      <td>0.758256</td>\n",
       "      <td>0.703820</td>\n",
       "      <td>0.703088</td>\n",
       "      <td>0.219764</td>\n",
       "      <td>0.569424</td>\n",
       "    </tr>\n",
       "    <tr>\n",
       "      <th>accuracy</th>\n",
       "      <td>0.842802</td>\n",
       "      <td>0.859501</td>\n",
       "      <td>0.851056</td>\n",
       "      <td>0.823800</td>\n",
       "      <td>0.823800</td>\n",
       "      <td>0.249904</td>\n",
       "      <td>0.799808</td>\n",
       "    </tr>\n",
       "  </tbody>\n",
       "</table>\n",
       "</div>"
      ],
      "text/plain": [
       "           Randomforest_leaf_1  Randomforest_leaf_10  Randomforest_leaf_100  \\\n",
       "precision             0.786466              0.818726               0.820534   \n",
       "recall                0.747653              0.762284               0.728397   \n",
       "fscore                0.763652              0.784320               0.758256   \n",
       "accuracy              0.842802              0.859501               0.851056   \n",
       "\n",
       "           svc_l1_C_0.1  svc_l1_C_1  svc_l2_C_0.1  svc_l2_C_1  \n",
       "precision      0.775262    0.775956      0.497520    0.858688  \n",
       "recall         0.677347    0.676478      0.499530    0.571925  \n",
       "fscore         0.703820    0.703088      0.219764    0.569424  \n",
       "accuracy       0.823800    0.823800      0.249904    0.799808  "
      ]
     },
     "execution_count": 160,
     "metadata": {},
     "output_type": "execute_result"
    }
   ],
   "source": [
    "final"
   ]
  },
  {
   "cell_type": "code",
   "execution_count": 180,
   "metadata": {
    "collapsed": false
   },
   "outputs": [
    {
     "data": {
      "image/png": "[encoded data removed]",
      "text/plain": [
       "<matplotlib.figure.Figure at 0x1705feb8be0>"
      ]
     },
     "metadata": {},
     "output_type": "display_data"
    }
   ],
   "source": [
    "final.T.plot.bar()\n",
    "plt.legend(loc='lower left')\n",
    "plt.title('With All Features')\n",
    "plt.show()"
   ]
  },
  {
   "cell_type": "code",
   "execution_count": 182,
   "metadata": {
    "collapsed": true
   },
   "outputs": [],
   "source": [
    "def model_one():\n",
    "    svc = LinearSVC(penalty='l1', dual=False)\n",
    "    svc.fit(Dropped_features, Real_y_train)\n",
    "    tes_y_pred = svc.predict(Dropped_features_val)\n",
    "    precision, recall, fscore, support = precision_recall_fscore_support(y_validate, tes_y_pred, average='macro')\n",
    "    accuracy = accuracy_score(y_validate, tes_y_pred)\n",
    "    return [precision, recall, fscore, accuracy]\n",
    "\n",
    "def model_two():\n",
    "    svc = LinearSVC()\n",
    "    svc.fit(Dropped_features, Real_y_train)\n",
    "    tes_y_pred = svc.predict(Dropped_features_val)\n",
    "    precision, recall, fscore, support = precision_recall_fscore_support(y_validate, tes_y_pred, average='macro')\n",
    "    accuracy = accuracy_score(y_validate, tes_y_pred)\n",
    "    return [precision, recall, fscore, accuracy]\n",
    "\n",
    "def model_three():\n",
    "    svc = LinearSVC(C=0.1)\n",
    "    svc.fit(Dropped_features, Real_y_train)\n",
    "    tes_y_pred = svc.predict(Dropped_features_val)\n",
    "    precision, recall, fscore, support = precision_recall_fscore_support(y_validate, tes_y_pred, average='macro')\n",
    "    accuracy = accuracy_score(y_validate, tes_y_pred)\n",
    "    return [precision, recall, fscore, accuracy]\n",
    "\n",
    "def model_four():\n",
    "    svc = LinearSVC(penalty='l1', C=0.1, dual=False)\n",
    "    svc.fit(Dropped_features, Real_y_train)\n",
    "    tes_y_pred = svc.predict(Dropped_features_val)\n",
    "    precision, recall, fscore, support = precision_recall_fscore_support(y_validate, tes_y_pred, average='macro')\n",
    "    accuracy = accuracy_score(y_validate, tes_y_pred)\n",
    "    return [precision, recall, fscore, accuracy]\n",
    "\n",
    "def model_five():\n",
    "    rd = RandomForestClassifier()\n",
    "    rd.fit(Dropped_features, Real_y_train)\n",
    "    tes_y_pred = rd.predict(Dropped_features_val)\n",
    "    precision, recall, fscore, support = precision_recall_fscore_support(y_validate, tes_y_pred, average='macro')\n",
    "    accuracy = accuracy_score(y_validate, tes_y_pred)\n",
    "    return [precision, recall, fscore, accuracy]\n",
    "\n",
    "def model_six():\n",
    "    rd = RandomForestClassifier(min_samples_leaf=10)\n",
    "    rd.fit(Dropped_features, Real_y_train)\n",
    "    tes_y_pred = rd.predict(Dropped_features_val)\n",
    "    precision, recall, fscore, support = precision_recall_fscore_support(y_validate, tes_y_pred, average='macro')\n",
    "    accuracy = accuracy_score(y_validate, tes_y_pred)\n",
    "    return [precision, recall, fscore, accuracy]\n",
    "\n",
    "def model_seven():\n",
    "    rd = RandomForestClassifier(min_samples_leaf=100)\n",
    "    rd.fit(Dropped_features, Real_y_train)\n",
    "    tes_y_pred = rd.predict(Dropped_features_val)\n",
    "    precision, recall, fscore, support = precision_recall_fscore_support(y_validate, tes_y_pred, average='macro')\n",
    "    accuracy = accuracy_score(y_validate, tes_y_pred)\n",
    "    return [precision, recall, fscore, accuracy]"
   ]
  },
  {
   "cell_type": "code",
   "execution_count": 183,
   "metadata": {
    "collapsed": false
   },
   "outputs": [
    {
     "name": "stderr",
     "output_type": "stream",
     "text": [
      "C:\\ProgramData\\Anaconda3\\lib\\site-packages\\sklearn\\metrics\\classification.py:1113: UndefinedMetricWarning: Precision and F-score are ill-defined and being set to 0.0 in labels with no predicted samples.\n",
      "  'precision', 'predicted', average, warn_for)\n"
     ]
    }
   ],
   "source": [
    "lis = ['svc_l1_C_1', 'svc_l1_C_0.1', 'svc_l2_C_1', 'svc_l2_C_0.1', 'Randomforest_leaf_1', 'Randomforest_leaf_10', 'Randomforest_leaf_100']\n",
    "lis_1 = [model_one(), model_four(), model_two(), model_three(), model_five(), model_six(), model_seven()]\n",
    "Final_10 = {}\n",
    "for i in range(7):\n",
    "    Final_10[lis[i]] = lis_1[i]"
   ]
  },
  {
   "cell_type": "code",
   "execution_count": 184,
   "metadata": {
    "collapsed": true
   },
   "outputs": [],
   "source": [
    "final_10 = pd.DataFrame(Final_10)\n",
    "s = pd.Series(['precision', 'recall', 'fscore', 'accuracy'])\n",
    "final_10.set_index(s, inplace=True)"
   ]
  },
  {
   "cell_type": "code",
   "execution_count": 185,
   "metadata": {
    "collapsed": false
   },
   "outputs": [
    {
     "data": {
      "text/html": [
       "<div>\n",
       "<table border=\"1\" class=\"dataframe\">\n",
       "  <thead>\n",
       "    <tr style=\"text-align: right;\">\n",
       "      <th></th>\n",
       "      <th>Randomforest_leaf_1</th>\n",
       "      <th>Randomforest_leaf_10</th>\n",
       "      <th>Randomforest_leaf_100</th>\n",
       "      <th>svc_l1_C_0.1</th>\n",
       "      <th>svc_l1_C_1</th>\n",
       "      <th>svc_l2_C_0.1</th>\n",
       "      <th>svc_l2_C_1</th>\n",
       "    </tr>\n",
       "  </thead>\n",
       "  <tbody>\n",
       "    <tr>\n",
       "      <th>precision</th>\n",
       "      <td>0.745309</td>\n",
       "      <td>0.767044</td>\n",
       "      <td>0.771091</td>\n",
       "      <td>0.748468</td>\n",
       "      <td>0.747076</td>\n",
       "      <td>0.741583</td>\n",
       "      <td>0.384261</td>\n",
       "    </tr>\n",
       "    <tr>\n",
       "      <th>recall</th>\n",
       "      <td>0.722688</td>\n",
       "      <td>0.731219</td>\n",
       "      <td>0.709236</td>\n",
       "      <td>0.654120</td>\n",
       "      <td>0.653455</td>\n",
       "      <td>0.651792</td>\n",
       "      <td>0.500000</td>\n",
       "    </tr>\n",
       "    <tr>\n",
       "      <th>fscore</th>\n",
       "      <td>0.732545</td>\n",
       "      <td>0.745930</td>\n",
       "      <td>0.730948</td>\n",
       "      <td>0.677241</td>\n",
       "      <td>0.676397</td>\n",
       "      <td>0.674033</td>\n",
       "      <td>0.434556</td>\n",
       "    </tr>\n",
       "    <tr>\n",
       "      <th>accuracy</th>\n",
       "      <td>0.818234</td>\n",
       "      <td>0.830902</td>\n",
       "      <td>0.829175</td>\n",
       "      <td>0.810365</td>\n",
       "      <td>0.809789</td>\n",
       "      <td>0.807678</td>\n",
       "      <td>0.768522</td>\n",
       "    </tr>\n",
       "  </tbody>\n",
       "</table>\n",
       "</div>"
      ],
      "text/plain": [
       "           Randomforest_leaf_1  Randomforest_leaf_10  Randomforest_leaf_100  \\\n",
       "precision             0.745309              0.767044               0.771091   \n",
       "recall                0.722688              0.731219               0.709236   \n",
       "fscore                0.732545              0.745930               0.730948   \n",
       "accuracy              0.818234              0.830902               0.829175   \n",
       "\n",
       "           svc_l1_C_0.1  svc_l1_C_1  svc_l2_C_0.1  svc_l2_C_1  \n",
       "precision      0.748468    0.747076      0.741583    0.384261  \n",
       "recall         0.654120    0.653455      0.651792    0.500000  \n",
       "fscore         0.677241    0.676397      0.674033    0.434556  \n",
       "accuracy       0.810365    0.809789      0.807678    0.768522  "
      ]
     },
     "execution_count": 185,
     "metadata": {},
     "output_type": "execute_result"
    }
   ],
   "source": [
    "final_10"
   ]
  },
  {
   "cell_type": "code",
   "execution_count": 186,
   "metadata": {
    "collapsed": false
   },
   "outputs": [
    {
     "data": {
      "image/png": "[encoded data removed]",
      "text/plain": [
       "<matplotlib.figure.Figure at 0x17062717978>"
      ]
     },
     "metadata": {},
     "output_type": "display_data"
    }
   ],
   "source": [
    "fig, ax = plt.subplots(1,2 , figsize=(10,6))\n",
    "final_10.T.plot.bar(ax=ax[0])\n",
    "ax[0].legend(loc='lower left')\n",
    "ax[0].set_title('Dropped Some Features ')\n",
    "final.T.plot.bar(ax=ax[1])\n",
    "ax[1].legend(loc='lower left')\n",
    "ax[1].set_title('No Dropped Features ')\n",
    "plt.show()"
   ]
  },
  {
   "cell_type": "code",
   "execution_count": 187,
   "metadata": {
    "collapsed": true
   },
   "outputs": [],
   "source": [
    "def model_eight():\n",
    "    svc = LinearSVC(penalty='l1', C=0.1, dual=False)\n",
    "    testing_pre = cross_val_score(svc, Real_X_train, Real_y_train, cv=5, scoring='precision').mean()\n",
    "    testing_recall = cross_val_score(svc, Real_X_train, Real_y_train, cv=5, scoring='recall').mean()\n",
    "    testing_fscore = cross_val_score(svc, Real_X_train, Real_y_train, cv=5, scoring='f1_macro').mean()\n",
    "    testing_acc = cross_val_score(svc, Real_X_train, Real_y_train, cv=5, scoring='accuracy').mean()\n",
    "    return [testing_pre, testing_recall, testing_fscore, testing_acc]\n",
    "\n",
    "def model_nine():\n",
    "    rd = RandomForestClassifier(min_samples_leaf=10)\n",
    "    testing_pre = cross_val_score(rd, Real_X_train, Real_y_train, cv=5, scoring='precision').mean()\n",
    "    testing_recall = cross_val_score(rd, Real_X_train, Real_y_train, cv=5, scoring='recall').mean()\n",
    "    testing_fscore = cross_val_score(rd, Real_X_train, Real_y_train, cv=5, scoring='f1_macro').mean()\n",
    "    testing_acc = cross_val_score(rd, Real_X_train, Real_y_train, cv=5, scoring='accuracy').mean()\n",
    "    return [testing_pre, testing_recall, testing_fscore, testing_acc]"
   ]
  },
  {
   "cell_type": "code",
   "execution_count": 188,
   "metadata": {
    "collapsed": true
   },
   "outputs": [],
   "source": [
    "lis_2 = ['best_svc_C_0.1_L1', 'Randomforest_leaf_10']\n",
    "lis_3 = [model_eight(), model_nine()]\n",
    "Final_val_1 = {}\n",
    "for i in range(2):\n",
    "    Final_val_1[lis_2[i]] = lis_3[i]"
   ]
  },
  {
   "cell_type": "code",
   "execution_count": 189,
   "metadata": {
    "collapsed": true
   },
   "outputs": [],
   "source": [
    "final_val = pd.DataFrame(Final_val_1)\n",
    "s = pd.Series(['precision', 'recall', 'fscore', 'accuracy'])\n",
    "final_val.set_index(s, inplace=True)"
   ]
  },
  {
   "cell_type": "code",
   "execution_count": 190,
   "metadata": {
    "collapsed": false
   },
   "outputs": [
    {
     "data": {
      "text/html": [
       "<div>\n",
       "<table border=\"1\" class=\"dataframe\">\n",
       "  <thead>\n",
       "    <tr style=\"text-align: right;\">\n",
       "      <th></th>\n",
       "      <th>Randomforest_leaf_10</th>\n",
       "      <th>best_svc_C_0.1_L1</th>\n",
       "    </tr>\n",
       "  </thead>\n",
       "  <tbody>\n",
       "    <tr>\n",
       "      <th>precision</th>\n",
       "      <td>0.768012</td>\n",
       "      <td>0.753171</td>\n",
       "    </tr>\n",
       "    <tr>\n",
       "      <th>recall</th>\n",
       "      <td>0.601897</td>\n",
       "      <td>0.394536</td>\n",
       "    </tr>\n",
       "    <tr>\n",
       "      <th>fscore</th>\n",
       "      <td>0.791890</td>\n",
       "      <td>0.708347</td>\n",
       "    </tr>\n",
       "    <tr>\n",
       "      <th>accuracy</th>\n",
       "      <td>0.856752</td>\n",
       "      <td>0.821959</td>\n",
       "    </tr>\n",
       "  </tbody>\n",
       "</table>\n",
       "</div>"
      ],
      "text/plain": [
       "           Randomforest_leaf_10  best_svc_C_0.1_L1\n",
       "precision              0.768012           0.753171\n",
       "recall                 0.601897           0.394536\n",
       "fscore                 0.791890           0.708347\n",
       "accuracy               0.856752           0.821959"
      ]
     },
     "execution_count": 190,
     "metadata": {},
     "output_type": "execute_result"
    }
   ],
   "source": [
    "final_val"
   ]
  },
  {
   "cell_type": "markdown",
   "metadata": {},
   "source": [
    "### Fill in your part 5 conclusions here\n",
    " \n",
    "With the regularization parameters set; over all, overfitting tend to decrease as we see better performance on the test set. Thus, generalizability increases. \n",
    "\n",
    "In Random forest model, I found that min_leaf_size of 10 tend to reduce model complexity and yield better results on test set. SVC is very sensitive when changed from C=1 to C=0.1 for \"L2\" PENALTY as we can see above in the graph. This is because there is a level of tolerance the model can accept, as C gets lower, it collapses some of the features.\n",
    "\n",
    "Regularization reduces overfitting because its dealing with the variances which might be inconsistent with different training set. "
   ]
  },
  {
   "cell_type": "markdown",
   "metadata": {},
   "source": [
    "## Overall Conclusion\n",
    "\n",
    "This problem is very interesting because it has many features which can be investigated further. All the models tend to do very well better than the dummy one. Overall, Random forest gives better score in terms of precision, recall and accuracy for the test score. Support vector classifier is the second best in line. \n",
    "\n",
    "Applying regularization, reduces the impact of overfitting; thus, reducing the complexity of the models caused the scores (recall, precision, f1 and accuracy) to be similar for both the traning set and test set. I will not anticipate any form of underfitting because scores for both training and validation set were between 0.7 and 0.8 roughly. \n",
    "\n",
    "Incorporating hyperparameters would have even caused the models to produce better results as they would be finely tuned. In general, upon recieving data, one should investigate the data closely by doing EDA (Exploratory Data Analysis). Upon close analyis, one can take care of missing data. If there are too many missing data in a column, one can drop that column completely; likewise, if there are too many missing data in a row, that row could be dropped. Filling in missing data really depends on the situation because one can fill in with the median if the data is ordinal. If data is categorical, one can fill missing data there with the mode. Even further, the mean could be utilized in most cases when there are not major outliers and data seem to be normally distributed. \n",
    "\n",
    "In this particular problem, the major features that should be used include: \"age\", \"work_class\", \"education\", \"education_num\", \"marital_status\", \"occupation\", \"race\" and \"hours_per_week\". Some of this features are correlated with target and produce better scores. One problem among the features that could be pointed out is the fact that education and education_num could be repeated features because they could both be saying the same thing about education. \n",
    "\n",
    "Over all this exercise is good first practice to implement machine learning models on our data and for us to begin to grasp the concept of missing data, feature selection as well as overfitting and underfitting. "
   ]
  },
  {
   "cell_type": "code",
   "execution_count": null,
   "metadata": {
    "collapsed": true
   },
   "outputs": [],
   "source": []
  }
 ],
 "metadata": {
  "kernel_info": {
   "name": "python3"
  },
  "kernelspec": {
   "display_name": "Python 3",
   "language": "python",
   "name": "python3"
  },
  "language_info": {
   "codemirror_mode": {
    "name": "ipython",
    "version": 3
   },
   "file_extension": ".py",
   "mimetype": "text/x-python",
   "name": "python",
   "nbconvert_exporter": "python",
   "pygments_lexer": "ipython3",
   "version": "3.6.0"
  },
  "nteract": {
   "version": "0.15.0"
  }
 },
 "nbformat": 4,
 "nbformat_minor": 2
}
